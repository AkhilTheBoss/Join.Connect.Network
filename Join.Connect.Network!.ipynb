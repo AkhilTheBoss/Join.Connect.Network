{
 "cells": [
  {
   "cell_type": "code",
   "execution_count": 1,
   "metadata": {
    "id": "Ze1LW_z7NErm"
   },
   "outputs": [],
   "source": [
    "import pandas as pd\n",
    "from sklearn import preprocessing\n",
    "from sklearn.ensemble import RandomForestClassifier\n",
    "from sklearn.metrics import accuracy_score\n",
    "import math\n",
    "import json\n",
    "from collections import Counter\n",
    "import numpy as np"
   ]
  },
  {
   "cell_type": "code",
   "execution_count": 2,
   "metadata": {
    "id": "2jWa22MGQ-c5"
   },
   "outputs": [],
   "source": [
    "df =pd.read_csv(\"Student_Behaviour.csv\")"
   ]
  },
  {
   "cell_type": "code",
   "execution_count": 3,
   "metadata": {
    "colab": {
     "base_uri": "https://localhost:8080/",
     "height": 419
    },
    "id": "vqZR6ym0NHgK",
    "outputId": "6aa86b4b-6382-435d-deaa-1b77c6f9604f"
   },
   "outputs": [],
   "source": [
    "df = df.drop(['Certification Course','social medai & video', 'Height(CM)', 'Weight(KG)', '10th Mark', '12th Mark', 'college mark', 'daily studing time', 'prefer to study in', 'salary expectation', 'Do you like your degree?'], axis=1)\n",
    "df = df.drop(['Financial Status', 'part-time job', 'willingness to pursue a career based on their degree  ', 'Stress Level ', 'Travelling Time '], axis=1)"
   ]
  },
  {
   "cell_type": "code",
   "execution_count": 4,
   "metadata": {
    "id": "v5dlh5S0fM3U"
   },
   "outputs": [],
   "source": [
    "df = df.rename(columns={'Department': 'Major'})\n",
    "df = df.rename(columns={'hobbies': 'Hobbies'})"
   ]
  },
  {
   "cell_type": "code",
   "execution_count": 5,
   "metadata": {
    "colab": {
     "base_uri": "https://localhost:8080/",
     "height": 359
    },
    "id": "Klm4HbX5TL49",
    "outputId": "273d9026-a7a6-4d00-d5fb-4d80eb197a74"
   },
   "outputs": [],
   "source": [
    "df = df.replace('BCA', 'College of Engineering')\n",
    "df = df.replace('Commerce', 'College of Biological Sciences')\n",
    "df = df.replace('B.com ISM', 'College of Letters and Science')\n",
    "df = df.replace('B.com Accounting and Finance ', 'College of Agricultural Sciences')"
   ]
  },
  {
   "cell_type": "code",
   "execution_count": 6,
   "metadata": {
    "colab": {
     "base_uri": "https://localhost:8080/"
    },
    "id": "TT_-NgNlS4JV",
    "outputId": "ce10533f-9850-4547-8d9a-3fff18898939"
   },
   "outputs": [],
   "source": [
    "y = pd.factorize(df.apply(tuple, axis=1))[0]"
   ]
  },
  {
   "cell_type": "code",
   "execution_count": 7,
   "metadata": {
    "colab": {
     "base_uri": "https://localhost:8080/",
     "height": 419
    },
    "id": "F8wKfbzykQOq",
    "outputId": "104e9c40-2513-40eb-b36a-dc5610d1fa16"
   },
   "outputs": [],
   "source": [
    "df['y'] = y"
   ]
  },
  {
   "cell_type": "code",
   "execution_count": 8,
   "metadata": {
    "colab": {
     "base_uri": "https://localhost:8080/",
     "height": 419
    },
    "id": "eVxhM5oDV7XN",
    "outputId": "c5585843-adcc-438a-c753-82a262630dc4"
   },
   "outputs": [],
   "source": [
    "df['Gender'] = df['Gender'].replace(('Male','Female'),(1,0)) # Male as 1 and female as 0"
   ]
  },
  {
   "cell_type": "code",
   "execution_count": 9,
   "metadata": {
    "colab": {
     "base_uri": "https://localhost:8080/",
     "height": 490
    },
    "id": "lr2-BXhPXsBa",
    "outputId": "c780b51c-706a-444b-bc8a-fcfc3b3c1505"
   },
   "outputs": [],
   "source": [
    "major = pd.get_dummies(df.Major,prefix='major')\n",
    "df = pd.concat([df,major], axis=1)\n",
    "df.drop('Major',axis=1,inplace=True)\n",
    "\n",
    "hobby = pd.get_dummies(df.Hobbies,prefix='hobby')\n",
    "df = pd.concat([df,hobby], axis=1)\n",
    "df.drop('Hobbies',axis=1,inplace=True)"
   ]
  },
  {
   "cell_type": "code",
   "execution_count": 10,
   "metadata": {
    "id": "O4HEGXbWT39F"
   },
   "outputs": [],
   "source": [
    "from sklearn.model_selection import train_test_split\n",
    "x = df\n",
    "x_train, x_test, y_train, y_test = train_test_split(x, y, test_size=0.1, random_state=21)"
   ]
  },
  {
   "cell_type": "code",
   "execution_count": 11,
   "metadata": {
    "colab": {
     "base_uri": "https://localhost:8080/"
    },
    "id": "7FsV3jMsVuqF",
    "outputId": "50b3d4d0-462c-416c-f150-2ce809712877"
   },
   "outputs": [],
   "source": [
    "regressor = RandomForestClassifier(n_estimators=100, random_state=42)\n",
    "regressor.fit(x_train, y_train)\n",
    "y_pred = regressor.predict(x_test)"
   ]
  },
  {
   "cell_type": "code",
   "execution_count": 12,
   "metadata": {
    "colab": {
     "base_uri": "https://localhost:8080/"
    },
    "id": "3B7hccAyWPLi",
    "outputId": "2a1607e0-b69e-48ee-8a7c-62cc37fa8a7b"
   },
   "outputs": [
    {
     "name": "stdout",
     "output_type": "stream",
     "text": [
      "Accuracy: 1.00\n"
     ]
    }
   ],
   "source": [
    "accuracy = accuracy_score(y_test, y_pred)\n",
    "print(f\"Accuracy: {accuracy:.2f}\")"
   ]
  },
  {
   "cell_type": "code",
   "execution_count": 13,
   "metadata": {
    "id": "-RF3laA8nm92"
   },
   "outputs": [],
   "source": [
    "def case_0():\n",
    "    entry = np.array([\"Male\", \"College of Engineering\", \"Video Games\"])\n",
    "    return entry\n",
    "\n",
    "def case_1():\n",
    "    entry = np.array([\"Female\", \"College of Engineering\", \"Cinema\"])\n",
    "    return entry\n",
    "\n",
    "def case_2():\n",
    "    entry = np.array([\"Male\", \"College of Engineering\", \"Cinema\"])\n",
    "    return entry\n",
    "\n",
    "def case_3():\n",
    "    entry = np.array([\"Female\", \"College of Engineering\", \"Reading books\"])\n",
    "    return entry\n",
    "\n",
    "def case_4():\n",
    "    entry = np.array([\"Male\", \"College of Engineering\", \"Reading books\"])\n",
    "    return entry\n",
    "\n",
    "def case_5():\n",
    "    entry = np.array([\"Male\", \"College of Engineering\", \"Sports\"])\n",
    "    return entry\n",
    "\n",
    "def case_6():\n",
    "    entry = np.array([\"Female\", \"College of Engineering\", \"Sports\"])\n",
    "    return entry\n",
    "\n",
    "def case_7():\n",
    "    entry = np.array([\"Female\", \"College of Biological Sciences\", \"Cinema\"])\n",
    "    return entry\n",
    "\n",
    "def case_8():\n",
    "    entry = np.array([\"Male\", \"College of Biological Sciences\", \"Cinema\"])\n",
    "    return entry\n",
    "\n",
    "def case_9():\n",
    "    entry = np.array([\"Male\", \"College of Biological Sciences\", \"Sports\"])\n",
    "    return entry\n",
    "\n",
    "def case_10():\n",
    "    entry = np.array([\"Female\", \"College of Agricultural Sciences\", \"Sports\"])\n",
    "    return entry\n",
    "\n",
    "def case_11():\n",
    "    entry = np.array([\"Male\", \"College of Agricultural Sciences\", \"Sports\"])\n",
    "    return entry\n",
    "\n",
    "def case_12():\n",
    "    entry = np.array([\"Male\", \"College of Agricultural Sciences\", \"Video Games\"])\n",
    "    return entry\n",
    "\n",
    "def case_13():\n",
    "    entry = np.array([\"Male\", \"College of Agricultural Sciences\", \"Reading books\"])\n",
    "    return entry\n",
    "\n",
    "def case_14():\n",
    "    entry = np.array([\"Female\", \"College of Biological Sciences\", \"Reading books\"])\n",
    "    return entry\n",
    "\n",
    "def case_15():\n",
    "    entry = np.array([\"Female\", \"College of Biological Sciences\", \"Sports\"])\n",
    "    return entry\n",
    "\n",
    "def case_16():\n",
    "    entry = np.array([\"Female\", \"College of Engineering\", \"Video Games\"])\n",
    "    return entry\n",
    "\n",
    "def case_17():\n",
    "    entry = np.array([\"Female\", \"College of Engineering\", \"Video Games\"])\n",
    "    return entry\n",
    "\n",
    "def case_18():\n",
    "    entry = np.array([\"Male\", \"College of Agricultural Sciences\", \"Cinema\"])\n",
    "    return entry\n",
    "\n",
    "def case_19():\n",
    "    entry = np.array([\"Female\", \"College of Agricultural Sciences\", \"Cinema\"])\n",
    "    return entry\n",
    "\n",
    "def case_20():\n",
    "    entry = np.array([\"Male\", \"College of Biological Sciences\", \"Video Games\"])\n",
    "    return entry\n",
    "\n",
    "def case_21():\n",
    "    entry = np.array([\"Male\", \"College of Biological Sciences\", \"Reading books\"])\n",
    "    return entry\n",
    "\n",
    "def case_22():\n",
    "    entry = np.array([\"Female\", \"College of Letters and Science\", \"Cinema\"])\n",
    "    return entry\n",
    "\n",
    "def case_23():\n",
    "    entry = np.array([\"Male\", \"College of Letters and Science\", \"Video Games\"])\n",
    "    return entry\n",
    "\n",
    "def case_24():\n",
    "    entry = np.array([\"Female\", \"College of Letters and Science\", \"Sports\"])\n",
    "    return entry\n",
    "\n",
    "def case_25():\n",
    "    entry = np.array([\"Male\", \"College of Letters and Science\", \"Cinema\"])\n",
    "    return entry\n",
    "\n",
    "def case_26():\n",
    "    entry = np.array([\"Male\", \"College of Letters and Science\", \"Sports\"])\n",
    "    return entry\n",
    "\n",
    "def case_27():\n",
    "    entry = np.array([\"Male\", \"College of Letters and Science\", \"Reading books\"])\n",
    "    return entry\n",
    "\n",
    "\n",
    "\n",
    "# Define a dictionary mapping cases to functions\n",
    "cases = {\n",
    "    0: case_0,\n",
    "    1: case_1,\n",
    "    2: case_2,\n",
    "    3: case_3,\n",
    "    4: case_4,\n",
    "    5: case_5,\n",
    "    6: case_6,\n",
    "    7: case_7,\n",
    "    8: case_8,\n",
    "    9: case_9,\n",
    "    10: case_10,\n",
    "    11: case_11,\n",
    "    12: case_12,\n",
    "    13: case_13,\n",
    "    14: case_14,\n",
    "    15: case_15,\n",
    "    16: case_16,\n",
    "    17: case_17,\n",
    "    18: case_18,\n",
    "    19: case_19,\n",
    "    20: case_20,\n",
    "    21: case_21,\n",
    "    22: case_22,\n",
    "    23: case_23,\n",
    "    24: case_24,\n",
    "    25: case_25,\n",
    "    26: case_26,\n",
    "    27: case_27,\n",
    "}"
   ]
  },
  {
   "cell_type": "code",
   "execution_count": 14,
   "metadata": {
    "colab": {
     "base_uri": "https://localhost:8080/"
    },
    "id": "sRjzC-ywhjKK",
    "outputId": "556a9af0-a904-47ac-c980-1c05983e8ff3"
   },
   "outputs": [],
   "source": [
    "def get_cosine(vec1, vec2):\n",
    "    intersection = set(vec1.keys()) & set(vec2.keys())\n",
    "    numerator = sum([vec1[x] * vec2[x] for x in intersection])\n",
    "\n",
    "    sum1 = sum([vec1[x] ** 2 for x in list(vec1.keys())])\n",
    "    sum2 = sum([vec2[x] ** 2 for x in list(vec2.keys())])\n",
    "    denominator = math.sqrt(sum1) * math.sqrt(sum2)\n",
    "\n",
    "    if not denominator:\n",
    "        return 0.0\n",
    "    else:\n",
    "        return float(numerator) / denominator    "
   ]
  },
  {
   "cell_type": "code",
   "execution_count": 15,
   "metadata": {
    "id": "HlcN8oZj8g63"
   },
   "outputs": [],
   "source": [
    "# Gettin g data from JSON file which comes from the backend\n",
    "with open('data.json') as f:\n",
    "    data = json.load(f)\n",
    "df = pd.DataFrame(data)\n",
    "df['Gender'] = df['Gender'].replace(('Male','Female'),(1,0))\n",
    "major = pd.get_dummies(df.Major,prefix='major')\n",
    "df = pd.concat([df,major], axis=1)\n",
    "df.drop('Major',axis=1,inplace=True)\n",
    "\n",
    "hobby = pd.get_dummies(df.Hobbies,prefix='hobby')\n",
    "df = pd.concat([df,hobby], axis=1)\n",
    "df.drop('Hobbies',axis=1,inplace=True)"
   ]
  },
  {
   "cell_type": "code",
   "execution_count": 16,
   "metadata": {
    "id": "lnAZ7I3D9V8T"
   },
   "outputs": [],
   "source": [
    "y_pred = regressor.predict(x_test)"
   ]
  },
  {
   "cell_type": "code",
   "execution_count": 17,
   "metadata": {
    "id": "QQL2BRSz9d_8"
   },
   "outputs": [],
   "source": [
    "selected_case = y_pred[10]\n",
    "if selected_case in cases:\n",
    "    text1 = cases[selected_case]()\n",
    "else:\n",
    "    print(\"Invalid case\")\n",
    "\n",
    "selected_case2 = y_pred[11]\n",
    "\n",
    "# Execute the selected case\n",
    "if selected_case2 in cases:\n",
    "    text2 = cases[selected_case2]()\n",
    "else:\n",
    "    print(\"Invalid case\")"
   ]
  },
  {
   "cell_type": "code",
   "execution_count": 18,
   "metadata": {
    "id": "49H8SUoi94UF"
   },
   "outputs": [
    {
     "name": "stdout",
     "output_type": "stream",
     "text": [
      "Similarity Percentage: 67\n"
     ]
    }
   ],
   "source": [
    "cosine = get_cosine(Counter(text1), Counter(text2))\n",
    "\n",
    "if cosine * 100 > 50:\n",
    "    print(\"Similarity Percentage:\", round(cosine*100))"
   ]
  }
 ],
 "metadata": {
  "colab": {
   "provenance": []
  },
  "kernelspec": {
   "display_name": "Python 3 (ipykernel)",
   "language": "python",
   "name": "python3"
  },
  "language_info": {
   "codemirror_mode": {
    "name": "ipython",
    "version": 3
   },
   "file_extension": ".py",
   "mimetype": "text/x-python",
   "name": "python",
   "nbconvert_exporter": "python",
   "pygments_lexer": "ipython3",
   "version": "3.10.6"
  }
 },
 "nbformat": 4,
 "nbformat_minor": 4
}
